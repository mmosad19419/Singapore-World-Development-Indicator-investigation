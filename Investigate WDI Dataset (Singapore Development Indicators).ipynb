{
 "cells": [
  {
   "cell_type": "markdown",
   "id": "8df9eb4a",
   "metadata": {},
   "source": [
    "### Investigate World Development Indicators Dataset from World Bank\n",
    "> #### I will explore Economy, ealth and Economy indicators for The Republic of Singapore\n",
    "> ##### Motivation:\n",
    "I am inspired by the story of singapore as after independence it was an undeveloped country, Now singapore one of the world fastest growing economies and it has been developed in many sectors Economy, Health, and Employment\n",
    "\n",
    "\n",
    "> ##### I will study the progress of singapore over time in specific Sectors\n",
    "\n",
    "><li> The Economic Development over years \n",
    "><li> The Health Development over years\n",
    "><li> Unemployment over year\n",
    "><li> Compare singapore development among its region countries </li>\n",
    "\n"
   ]
  },
  {
   "cell_type": "code",
   "execution_count": 1,
   "id": "e154c67a",
   "metadata": {},
   "outputs": [],
   "source": [
    "# import libs\n",
    "import numpy as np\n",
    "import pandas as pd\n",
    "import matplotlib.pyplot as plt\n",
    "import seaborn as sns\n",
    "import sqlite3\n",
    "\n",
    "%matplotlib inline"
   ]
  },
  {
   "cell_type": "code",
   "execution_count": 2,
   "id": "bb5c2e35",
   "metadata": {},
   "outputs": [
    {
     "name": "stdout",
     "output_type": "stream",
     "text": [
      "Adobe Illustrator 2022.lnk\n",
      "Data Science Diploma\n",
      "Data Visualization\n",
      "Docker Desktop.lnk\n",
      "Excel Training\n",
      "Fundamental of statistics\n",
      "Investigate WDI Dataset (Singapore Development Indicators).ipynb\n",
      "Notion.lnk\n",
      "PyCharm Community Edition 2022.1.lnk\n",
      "Snipping Tool.lnk\n",
      "Visual Studio Code.lnk\n",
      "bike share project Github\n",
      "database.sqlite\n",
      "desktop.ini\n",
      "~$Ø·Ù„Ø¨.docx\n"
     ]
    }
   ],
   "source": [
    "!ls"
   ]
  },
  {
   "cell_type": "code",
   "execution_count": 3,
   "id": "f611813f",
   "metadata": {},
   "outputs": [],
   "source": [
    "# connect our database\n",
    "db = sqlite3.connect(\"database.sqlite\")\n",
    "cur = db.cursor()"
   ]
  },
  {
   "cell_type": "code",
   "execution_count": 4,
   "id": "6faf8678",
   "metadata": {},
   "outputs": [
    {
     "name": "stdout",
     "output_type": "stream",
     "text": [
      "[('Country',), ('CountryNotes',), ('Series',), ('Indicators',), ('SeriesNotes',), ('Footnotes',)]\n"
     ]
    }
   ],
   "source": [
    "# Acces our database\n",
    "# present the database schema/tables by access sqlite_master\n",
    "\n",
    "tables_query =  \"\"\"\n",
    "                SELECT name\n",
    "                FROM sqlite_master\n",
    "                WHERE type = 'table';\n",
    "                \"\"\"\n",
    "\n",
    "\n",
    "tables = cur.execute(tables_query)\n",
    "\n",
    "print(tables.fetchall())"
   ]
  },
  {
   "cell_type": "markdown",
   "id": "aef6e472",
   "metadata": {},
   "source": [
    "###### Explore tables data"
   ]
  },
  {
   "cell_type": "code",
   "execution_count": 5,
   "id": "beecd864",
   "metadata": {},
   "outputs": [
    {
     "name": "stdout",
     "output_type": "stream",
     "text": [
      "<class 'pandas.core.frame.DataFrame'>\n",
      "RangeIndex: 10 entries, 0 to 9\n",
      "Data columns (total 31 columns):\n",
      " #   Column                                      Non-Null Count  Dtype \n",
      "---  ------                                      --------------  ----- \n",
      " 0   CountryCode                                 10 non-null     object\n",
      " 1   ShortName                                   10 non-null     object\n",
      " 2   TableName                                   10 non-null     object\n",
      " 3   LongName                                    10 non-null     object\n",
      " 4   Alpha2Code                                  10 non-null     object\n",
      " 5   CurrencyUnit                                10 non-null     object\n",
      " 6   SpecialNotes                                10 non-null     object\n",
      " 7   Region                                      10 non-null     object\n",
      " 8   IncomeGroup                                 10 non-null     object\n",
      " 9   Wb2Code                                     10 non-null     object\n",
      " 10  NationalAccountsBaseYear                    10 non-null     object\n",
      " 11  NationalAccountsReferenceYear               10 non-null     object\n",
      " 12  SnaPriceValuation                           10 non-null     object\n",
      " 13  LendingCategory                             10 non-null     object\n",
      " 14  OtherGroups                                 10 non-null     object\n",
      " 15  SystemOfNationalAccounts                    10 non-null     object\n",
      " 16  AlternativeConversionFactor                 10 non-null     object\n",
      " 17  PppSurveyYear                               10 non-null     object\n",
      " 18  BalanceOfPaymentsManualInUse                10 non-null     object\n",
      " 19  ExternalDebtReportingStatus                 10 non-null     object\n",
      " 20  SystemOfTrade                               10 non-null     object\n",
      " 21  GovernmentAccountingConcept                 10 non-null     object\n",
      " 22  ImfDataDisseminationStandard                10 non-null     object\n",
      " 23  LatestPopulationCensus                      10 non-null     object\n",
      " 24  LatestHouseholdSurvey                       10 non-null     object\n",
      " 25  SourceOfMostRecentIncomeAndExpenditureData  10 non-null     object\n",
      " 26  VitalRegistrationComplete                   10 non-null     object\n",
      " 27  LatestAgriculturalCensus                    10 non-null     object\n",
      " 28  LatestIndustrialData                        10 non-null     object\n",
      " 29  LatestTradeData                             10 non-null     object\n",
      " 30  LatestWaterWithdrawalData                   10 non-null     object\n",
      "dtypes: object(31)\n",
      "memory usage: 2.5+ KB\n"
     ]
    }
   ],
   "source": [
    "country_table_query =   \"\"\"\n",
    "                        SELECT *\n",
    "                        FROM Country\n",
    "                        LIMIT 10;\n",
    "                        \"\"\"\n",
    "\n",
    "countries = pd.read_sql(country_table_query, db)\n",
    "\n",
    "countries.info()"
   ]
  },
  {
   "cell_type": "code",
   "execution_count": 6,
   "id": "71a87794",
   "metadata": {},
   "outputs": [
    {
     "name": "stdout",
     "output_type": "stream",
     "text": [
      "<class 'pandas.core.frame.DataFrame'>\n",
      "RangeIndex: 10 entries, 0 to 9\n",
      "Data columns (total 3 columns):\n",
      " #   Column       Non-Null Count  Dtype \n",
      "---  ------       --------------  ----- \n",
      " 0   Countrycode  10 non-null     object\n",
      " 1   Seriescode   10 non-null     object\n",
      " 2   Description  10 non-null     object\n",
      "dtypes: object(3)\n",
      "memory usage: 368.0+ bytes\n"
     ]
    }
   ],
   "source": [
    "country_notes_query = \"\"\"\n",
    "                        SELECT *\n",
    "                        FROM CountryNotes\n",
    "                        LIMIT 10;\n",
    "                        \"\"\"\n",
    "\n",
    "countries_notes = pd.read_sql(country_notes_query, db)\n",
    "\n",
    "countries_notes.info()"
   ]
  },
  {
   "cell_type": "code",
   "execution_count": 7,
   "id": "001682a6",
   "metadata": {},
   "outputs": [
    {
     "name": "stdout",
     "output_type": "stream",
     "text": [
      "<class 'pandas.core.frame.DataFrame'>\n",
      "RangeIndex: 10 entries, 0 to 9\n",
      "Data columns (total 20 columns):\n",
      " #   Column                            Non-Null Count  Dtype \n",
      "---  ------                            --------------  ----- \n",
      " 0   SeriesCode                        10 non-null     object\n",
      " 1   Topic                             10 non-null     object\n",
      " 2   IndicatorName                     10 non-null     object\n",
      " 3   ShortDefinition                   10 non-null     object\n",
      " 4   LongDefinition                    10 non-null     object\n",
      " 5   UnitOfMeasure                     10 non-null     object\n",
      " 6   Periodicity                       10 non-null     object\n",
      " 7   BasePeriod                        10 non-null     object\n",
      " 8   OtherNotes                        10 non-null     object\n",
      " 9   AggregationMethod                 10 non-null     object\n",
      " 10  LimitationsAndExceptions          10 non-null     object\n",
      " 11  NotesFromOriginalSource           10 non-null     object\n",
      " 12  GeneralComments                   10 non-null     object\n",
      " 13  Source                            10 non-null     object\n",
      " 14  StatisticalConceptAndMethodology  10 non-null     object\n",
      " 15  DevelopmentRelevance              10 non-null     object\n",
      " 16  RelatedSourceLinks                10 non-null     object\n",
      " 17  OtherWebLinks                     10 non-null     object\n",
      " 18  RelatedIndicators                 10 non-null     object\n",
      " 19  LicenseType                       10 non-null     object\n",
      "dtypes: object(20)\n",
      "memory usage: 1.7+ KB\n"
     ]
    }
   ],
   "source": [
    "series_query = \"\"\"\n",
    "                SELECT * \n",
    "                FROM Series\n",
    "                LIMIT 10;\n",
    "                \"\"\"\n",
    "\n",
    "series = pd.read_sql(series_query, db)\n",
    "\n",
    "series.info()"
   ]
  },
  {
   "cell_type": "code",
   "execution_count": 8,
   "id": "0ccdecaf",
   "metadata": {},
   "outputs": [
    {
     "name": "stdout",
     "output_type": "stream",
     "text": [
      "<class 'pandas.core.frame.DataFrame'>\n",
      "RangeIndex: 10 entries, 0 to 9\n",
      "Data columns (total 6 columns):\n",
      " #   Column         Non-Null Count  Dtype  \n",
      "---  ------         --------------  -----  \n",
      " 0   CountryName    10 non-null     object \n",
      " 1   CountryCode    10 non-null     object \n",
      " 2   IndicatorName  10 non-null     object \n",
      " 3   IndicatorCode  10 non-null     object \n",
      " 4   Year           10 non-null     int64  \n",
      " 5   Value          10 non-null     float64\n",
      "dtypes: float64(1), int64(1), object(4)\n",
      "memory usage: 608.0+ bytes\n"
     ]
    }
   ],
   "source": [
    "indicator_query = \"\"\"\n",
    "                    SELECT *\n",
    "                    FROM Indicators\n",
    "                    LIMIT 10;\n",
    "                    \"\"\"\n",
    "\n",
    "indicators = pd.read_sql(indicator_query, db)\n",
    "\n",
    "indicators.info()"
   ]
  },
  {
   "cell_type": "markdown",
   "id": "aef43b60",
   "metadata": {},
   "source": [
    "Exploring the Country, Country Notes, Series and Indicators\n",
    "\n",
    "<li> Country tables represent data about each country </li>\n",
    "<li> Series tables represent each indicator information </li>\n",
    "<li> indicators table represent indicators data for each country </li>\n",
    "<li> Indicators table joins Country table on Country Code and joins  Series Table on indicator Code</li>"
   ]
  },
  {
   "cell_type": "markdown",
   "id": "418478f2",
   "metadata": {},
   "source": [
    "###### Now i will get the data related to singapore and its region region"
   ]
  },
  {
   "cell_type": "code",
   "execution_count": 9,
   "id": "4524a964",
   "metadata": {},
   "outputs": [
    {
     "data": {
      "text/html": [
       "<div>\n",
       "<style scoped>\n",
       "    .dataframe tbody tr th:only-of-type {\n",
       "        vertical-align: middle;\n",
       "    }\n",
       "\n",
       "    .dataframe tbody tr th {\n",
       "        vertical-align: top;\n",
       "    }\n",
       "\n",
       "    .dataframe thead th {\n",
       "        text-align: right;\n",
       "    }\n",
       "</style>\n",
       "<table border=\"1\" class=\"dataframe\">\n",
       "  <thead>\n",
       "    <tr style=\"text-align: right;\">\n",
       "      <th></th>\n",
       "      <th>CountryCode</th>\n",
       "      <th>ShortName</th>\n",
       "      <th>TableName</th>\n",
       "      <th>LongName</th>\n",
       "      <th>Alpha2Code</th>\n",
       "      <th>CurrencyUnit</th>\n",
       "      <th>SpecialNotes</th>\n",
       "      <th>Region</th>\n",
       "      <th>IncomeGroup</th>\n",
       "      <th>Wb2Code</th>\n",
       "      <th>...</th>\n",
       "      <th>GovernmentAccountingConcept</th>\n",
       "      <th>ImfDataDisseminationStandard</th>\n",
       "      <th>LatestPopulationCensus</th>\n",
       "      <th>LatestHouseholdSurvey</th>\n",
       "      <th>SourceOfMostRecentIncomeAndExpenditureData</th>\n",
       "      <th>VitalRegistrationComplete</th>\n",
       "      <th>LatestAgriculturalCensus</th>\n",
       "      <th>LatestIndustrialData</th>\n",
       "      <th>LatestTradeData</th>\n",
       "      <th>LatestWaterWithdrawalData</th>\n",
       "    </tr>\n",
       "  </thead>\n",
       "  <tbody>\n",
       "    <tr>\n",
       "      <th>0</th>\n",
       "      <td>SGP</td>\n",
       "      <td>Singapore</td>\n",
       "      <td>Singapore</td>\n",
       "      <td>Republic of Singapore</td>\n",
       "      <td>SG</td>\n",
       "      <td>Singapore dollar</td>\n",
       "      <td>Fiscal year end: March 31; reporting period fo...</td>\n",
       "      <td>East Asia &amp; Pacific</td>\n",
       "      <td>High income: nonOECD</td>\n",
       "      <td>SG</td>\n",
       "      <td>...</td>\n",
       "      <td>Consolidated central government</td>\n",
       "      <td>Special Data Dissemination Standard (SDDS)</td>\n",
       "      <td>2010</td>\n",
       "      <td>National Health Survey (NHS), 2010</td>\n",
       "      <td></td>\n",
       "      <td>Yes</td>\n",
       "      <td></td>\n",
       "      <td>2011</td>\n",
       "      <td>2013</td>\n",
       "      <td>1975</td>\n",
       "    </tr>\n",
       "  </tbody>\n",
       "</table>\n",
       "<p>1 rows × 31 columns</p>\n",
       "</div>"
      ],
      "text/plain": [
       "  CountryCode  ShortName  TableName               LongName Alpha2Code  \\\n",
       "0         SGP  Singapore  Singapore  Republic of Singapore         SG   \n",
       "\n",
       "       CurrencyUnit                                       SpecialNotes  \\\n",
       "0  Singapore dollar  Fiscal year end: March 31; reporting period fo...   \n",
       "\n",
       "                Region           IncomeGroup Wb2Code  ...  \\\n",
       "0  East Asia & Pacific  High income: nonOECD      SG  ...   \n",
       "\n",
       "       GovernmentAccountingConcept  \\\n",
       "0  Consolidated central government   \n",
       "\n",
       "                 ImfDataDisseminationStandard LatestPopulationCensus  \\\n",
       "0  Special Data Dissemination Standard (SDDS)                   2010   \n",
       "\n",
       "                LatestHouseholdSurvey  \\\n",
       "0  National Health Survey (NHS), 2010   \n",
       "\n",
       "  SourceOfMostRecentIncomeAndExpenditureData VitalRegistrationComplete  \\\n",
       "0                                                                  Yes   \n",
       "\n",
       "  LatestAgriculturalCensus LatestIndustrialData LatestTradeData  \\\n",
       "0                                          2011            2013   \n",
       "\n",
       "  LatestWaterWithdrawalData  \n",
       "0                      1975  \n",
       "\n",
       "[1 rows x 31 columns]"
      ]
     },
     "execution_count": 9,
     "metadata": {},
     "output_type": "execute_result"
    }
   ],
   "source": [
    "singapore_query = \"\"\"\n",
    "                    SELECT *\n",
    "                    FROM Country\n",
    "                    WHERE ShortName == \"Singapore\";\n",
    "                    \"\"\"\n",
    "\n",
    "singapore_country = pd.read_sql(singapore_query, db)\n",
    "\n",
    "singapore_country"
   ]
  },
  {
   "cell_type": "code",
   "execution_count": 10,
   "id": "90c74537",
   "metadata": {},
   "outputs": [
    {
     "name": "stdout",
     "output_type": "stream",
     "text": [
      "<class 'pandas.core.frame.DataFrame'>\n",
      "RangeIndex: 22600 entries, 0 to 22599\n",
      "Data columns (total 6 columns):\n",
      " #   Column         Non-Null Count  Dtype  \n",
      "---  ------         --------------  -----  \n",
      " 0   CountryName    22600 non-null  object \n",
      " 1   CountryCode    22600 non-null  object \n",
      " 2   IndicatorName  22600 non-null  object \n",
      " 3   IndicatorCode  22600 non-null  object \n",
      " 4   Year           22600 non-null  int64  \n",
      " 5   Value          22600 non-null  float64\n",
      "dtypes: float64(1), int64(1), object(4)\n",
      "memory usage: 1.0+ MB\n"
     ]
    }
   ],
   "source": [
    "# Get all singapore related indicators data\n",
    "singapore_indicators_query = \"\"\"\n",
    "                                SELECT *\n",
    "                                FROM Indicators\n",
    "                                WHERE CountryCode = \"SGP\";\n",
    "                                \"\"\"\n",
    "\n",
    "singapore_indicators = pd.read_sql(singapore_indicators_query,db)\n",
    "\n",
    "singapore_indicators.info ()         "
   ]
  },
  {
   "cell_type": "code",
   "execution_count": 11,
   "id": "8cfc182b",
   "metadata": {},
   "outputs": [
    {
     "name": "stdout",
     "output_type": "stream",
     "text": [
      "<class 'pandas.core.frame.DataFrame'>\n",
      "Int64Index: 0 entries\n",
      "Data columns (total 6 columns):\n",
      " #   Column         Non-Null Count  Dtype  \n",
      "---  ------         --------------  -----  \n",
      " 0   CountryName    0 non-null      object \n",
      " 1   CountryCode    0 non-null      object \n",
      " 2   IndicatorName  0 non-null      object \n",
      " 3   IndicatorCode  0 non-null      object \n",
      " 4   Year           0 non-null      int64  \n",
      " 5   Value          0 non-null      float64\n",
      "dtypes: float64(1), int64(1), object(4)\n",
      "memory usage: 0.0+ bytes\n"
     ]
    }
   ],
   "source": [
    "# Get all singapore related indicators data\n",
    "singapore_indicators = indicators[indicators[\"CountryCode\"] == \"SGP\"]\n",
    "\n",
    "singapore_indicators.info()"
   ]
  },
  {
   "cell_type": "code",
   "execution_count": 12,
   "id": "54b58444",
   "metadata": {},
   "outputs": [
    {
     "name": "stdout",
     "output_type": "stream",
     "text": [
      "<class 'pandas.core.frame.DataFrame'>\n",
      "RangeIndex: 36 entries, 0 to 35\n",
      "Data columns (total 31 columns):\n",
      " #   Column                                      Non-Null Count  Dtype \n",
      "---  ------                                      --------------  ----- \n",
      " 0   CountryCode                                 36 non-null     object\n",
      " 1   ShortName                                   36 non-null     object\n",
      " 2   TableName                                   36 non-null     object\n",
      " 3   LongName                                    36 non-null     object\n",
      " 4   Alpha2Code                                  36 non-null     object\n",
      " 5   CurrencyUnit                                36 non-null     object\n",
      " 6   SpecialNotes                                36 non-null     object\n",
      " 7   Region                                      36 non-null     object\n",
      " 8   IncomeGroup                                 36 non-null     object\n",
      " 9   Wb2Code                                     36 non-null     object\n",
      " 10  NationalAccountsBaseYear                    36 non-null     object\n",
      " 11  NationalAccountsReferenceYear               36 non-null     object\n",
      " 12  SnaPriceValuation                           36 non-null     object\n",
      " 13  LendingCategory                             36 non-null     object\n",
      " 14  OtherGroups                                 36 non-null     object\n",
      " 15  SystemOfNationalAccounts                    36 non-null     object\n",
      " 16  AlternativeConversionFactor                 36 non-null     object\n",
      " 17  PppSurveyYear                               36 non-null     object\n",
      " 18  BalanceOfPaymentsManualInUse                36 non-null     object\n",
      " 19  ExternalDebtReportingStatus                 36 non-null     object\n",
      " 20  SystemOfTrade                               36 non-null     object\n",
      " 21  GovernmentAccountingConcept                 36 non-null     object\n",
      " 22  ImfDataDisseminationStandard                36 non-null     object\n",
      " 23  LatestPopulationCensus                      36 non-null     object\n",
      " 24  LatestHouseholdSurvey                       36 non-null     object\n",
      " 25  SourceOfMostRecentIncomeAndExpenditureData  36 non-null     object\n",
      " 26  VitalRegistrationComplete                   36 non-null     object\n",
      " 27  LatestAgriculturalCensus                    36 non-null     object\n",
      " 28  LatestIndustrialData                        36 non-null     object\n",
      " 29  LatestTradeData                             36 non-null     object\n",
      " 30  LatestWaterWithdrawalData                   36 non-null     object\n",
      "dtypes: object(31)\n",
      "memory usage: 8.8+ KB\n"
     ]
    }
   ],
   "source": [
    "# Get region data\n",
    "region_query = \"\"\"\n",
    "                SELECT *\n",
    "                FROM Country\n",
    "                WHERE Region = \"East Asia & Pacific\";\n",
    "                \"\"\"\n",
    "\n",
    "region_data = pd.read_sql(region_query, db)\n",
    "\n",
    "region_data.info()"
   ]
  },
  {
   "cell_type": "code",
   "execution_count": 13,
   "id": "bf09214f",
   "metadata": {},
   "outputs": [
    {
     "name": "stdout",
     "output_type": "stream",
     "text": [
      "<class 'pandas.core.frame.DataFrame'>\n",
      "RangeIndex: 703768 entries, 0 to 703767\n",
      "Data columns (total 6 columns):\n",
      " #   Column         Non-Null Count   Dtype  \n",
      "---  ------         --------------   -----  \n",
      " 0   CountryName    703768 non-null  object \n",
      " 1   CountryCode    703768 non-null  object \n",
      " 2   IndicatorName  703768 non-null  object \n",
      " 3   IndicatorCode  703768 non-null  object \n",
      " 4   Year           703768 non-null  int64  \n",
      " 5   Value          703768 non-null  float64\n",
      "dtypes: float64(1), int64(1), object(4)\n",
      "memory usage: 32.2+ MB\n"
     ]
    }
   ],
   "source": [
    "# Get all rigion country indicators \n",
    "region_indicators_query = \"\"\"\n",
    "                            SELECT I.CountryName, I.CountryCode, IndicatorName, IndicatorCode, Year, Value \n",
    "                            FROM Indicators AS I\n",
    "                            INNER JOIN Country AS C\n",
    "                            ON I.CountryCode = C.CountryCode\n",
    "                            WHERE Region = \"East Asia & Pacific\";\n",
    "                            \"\"\"\n",
    "\n",
    "region_indicators = pd.read_sql(region_indicators_query, db)\n",
    "\n",
    "region_indicators.info()"
   ]
  },
  {
   "cell_type": "code",
   "execution_count": 14,
   "id": "2883cdf7",
   "metadata": {},
   "outputs": [
    {
     "data": {
      "text/plain": [
       "36"
      ]
     },
     "execution_count": 14,
     "metadata": {},
     "output_type": "execute_result"
    }
   ],
   "source": [
    "# Check the number of unique countries name to make sure we get all the countries in the region\n",
    "region_indicators.CountryName.nunique()"
   ]
  },
  {
   "cell_type": "markdown",
   "id": "94e99236",
   "metadata": {},
   "source": [
    "Now we have all Singapore Indicators Data, and East Asia & Pacific Region countries Indicators Data"
   ]
  },
  {
   "cell_type": "markdown",
   "id": "323695a0",
   "metadata": {},
   "source": [
    "###### Getting the Indicators [Economy, Health, Employment]"
   ]
  },
  {
   "cell_type": "code",
   "execution_count": 15,
   "id": "53eec7fe",
   "metadata": {},
   "outputs": [
    {
     "data": {
      "text/plain": [
       "['Economic Policy & Debt: Balance of payments: Capital & financial account',\n",
       " 'Economic Policy & Debt: Balance of payments: Current account: Balances',\n",
       " 'Economic Policy & Debt: Balance of payments: Current account: Goods, services & income',\n",
       " 'Economic Policy & Debt: Balance of payments: Current account: Transfers',\n",
       " 'Economic Policy & Debt: Balance of payments: Reserves & other items',\n",
       " 'Economic Policy & Debt: External debt: Amortization',\n",
       " 'Economic Policy & Debt: External debt: Arrears, reschedulings, etc.',\n",
       " 'Economic Policy & Debt: External debt: Commitments',\n",
       " 'Economic Policy & Debt: External debt: Currency composition',\n",
       " 'Economic Policy & Debt: External debt: Debt outstanding',\n",
       " 'Economic Policy & Debt: External debt: Debt ratios & other items',\n",
       " 'Economic Policy & Debt: External debt: Debt service',\n",
       " 'Economic Policy & Debt: External debt: Disbursements',\n",
       " 'Economic Policy & Debt: External debt: Interest',\n",
       " 'Economic Policy & Debt: External debt: Net flows',\n",
       " 'Economic Policy & Debt: External debt: Net transfers',\n",
       " 'Economic Policy & Debt: External debt: Terms',\n",
       " 'Economic Policy & Debt: External debt: Undisbursed debt',\n",
       " 'Economic Policy & Debt: National accounts: Adjusted savings & income',\n",
       " 'Economic Policy & Debt: National accounts: Atlas GNI & GNI per capita',\n",
       " 'Economic Policy & Debt: National accounts: Growth rates',\n",
       " 'Economic Policy & Debt: National accounts: Growth rates:',\n",
       " 'Economic Policy & Debt: National accounts: Local currency at constant prices: Aggregate indicators',\n",
       " 'Economic Policy & Debt: National accounts: Local currency at constant prices: Expenditure on GDP',\n",
       " 'Economic Policy & Debt: National accounts: Local currency at constant prices: Other items',\n",
       " 'Economic Policy & Debt: National accounts: Local currency at constant prices: Value added',\n",
       " 'Economic Policy & Debt: National accounts: Local currency at current prices: Aggregate indicators',\n",
       " 'Economic Policy & Debt: National accounts: Local currency at current prices: Expenditure on GDP',\n",
       " 'Economic Policy & Debt: National accounts: Local currency at current prices: Value added',\n",
       " 'Economic Policy & Debt: National accounts: Shares of GDP & other',\n",
       " 'Economic Policy & Debt: National accounts: US$ at constant 2005 prices: Aggregate indicators',\n",
       " 'Economic Policy & Debt: National accounts: US$ at constant 2005 prices: Expenditure on GDP',\n",
       " 'Economic Policy & Debt: National accounts: US$ at constant 2005 prices: Value added',\n",
       " 'Economic Policy & Debt: National accounts: US$ at current prices: Aggregate indicators',\n",
       " 'Economic Policy & Debt: National accounts: US$ at current prices: Expenditure on GDP',\n",
       " 'Economic Policy & Debt: National accounts: US$ at current prices: Other items',\n",
       " 'Economic Policy & Debt: National accounts: US$ at current prices: Value added',\n",
       " 'Economic Policy & Debt: Official development assistance',\n",
       " 'Economic Policy & Debt: Purchasing power parity',\n",
       " 'Education: Efficiency',\n",
       " 'Education: Inputs',\n",
       " 'Education: Outcomes',\n",
       " 'Education: Participation',\n",
       " 'Environment: Agricultural production',\n",
       " 'Environment: Biodiversity & protected areas',\n",
       " 'Environment: Density & urbanization',\n",
       " 'Environment: Emissions',\n",
       " 'Environment: Energy production & use',\n",
       " 'Environment: Freshwater',\n",
       " 'Environment: Land use',\n",
       " 'Environment: Natural resources contribution to GDP',\n",
       " 'Financial Sector: Access',\n",
       " 'Financial Sector: Assets',\n",
       " 'Financial Sector: Capital markets',\n",
       " 'Financial Sector: Exchange rates & prices',\n",
       " 'Financial Sector: Interest rates',\n",
       " 'Financial Sector: Monetary holdings (liabilities)',\n",
       " 'Health: Disease prevention',\n",
       " 'Health: Health services',\n",
       " 'Health: Mortality',\n",
       " 'Health: Nutrition',\n",
       " 'Health: Population: Dynamics',\n",
       " 'Health: Population: Structure',\n",
       " 'Health: Reproductive health',\n",
       " 'Health: Risk factors',\n",
       " 'Infrastructure: Communications',\n",
       " 'Infrastructure: Technology',\n",
       " 'Infrastructure: Transportation',\n",
       " 'Poverty: Income distribution',\n",
       " 'Poverty: Poverty rates',\n",
       " 'Poverty: Shared prosperity',\n",
       " 'Private Sector & Trade: Business environment',\n",
       " 'Private Sector & Trade: Exports',\n",
       " 'Private Sector & Trade: Imports',\n",
       " 'Private Sector & Trade: Private infrastructure investment',\n",
       " 'Private Sector & Trade: Tariffs',\n",
       " 'Private Sector & Trade: Total merchandise trade',\n",
       " 'Private Sector & Trade: Trade facilitation',\n",
       " 'Private Sector & Trade: Trade indexes',\n",
       " 'Private Sector & Trade: Travel & tourism',\n",
       " 'Public Sector: Conflict & fragility',\n",
       " 'Public Sector: Defense & arms trade',\n",
       " 'Public Sector: Government finance: Deficit & financing',\n",
       " 'Public Sector: Government finance: Expense',\n",
       " 'Public Sector: Government finance: Revenue',\n",
       " 'Public Sector: Policy & institutions',\n",
       " 'Social Protection & Labor: Economic activity',\n",
       " 'Social Protection & Labor: Labor force structure',\n",
       " 'Social Protection & Labor: Migration',\n",
       " 'Social Protection & Labor: Performance',\n",
       " 'Social Protection & Labor: Unemployment']"
      ]
     },
     "execution_count": 15,
     "metadata": {},
     "output_type": "execute_result"
    }
   ],
   "source": [
    "topics_query = \"\"\"\n",
    "                SELECT DISTINCT Topic\n",
    "                FROM Series;\n",
    "                \"\"\"\n",
    "\n",
    "topics = pd.read_sql(topics_query, db)\n",
    "\n",
    "topics_list = [x for x in topics[\"Topic\"]]\n",
    "\n",
    "topics_list"
   ]
  },
  {
   "cell_type": "markdown",
   "id": "f5d9911b",
   "metadata": {},
   "source": [
    "### Indicators Choice "
   ]
  },
  {
   "cell_type": "markdown",
   "id": "1436c250",
   "metadata": {},
   "source": [
    "> I will select one indicator related to each topic and see the progress in it over time in singapore and compare singapore with its region countries to see singapore development progress. \n",
    "\n",
    "><li>Economy Indicator : GDP Per Capita\n",
    "><li>Health : Life Expectancy\n",
    "><li>Unemployment : Total Unemployment Rate"
   ]
  },
  {
   "cell_type": "code",
   "execution_count": 16,
   "id": "f7f1f923",
   "metadata": {},
   "outputs": [
    {
     "data": {
      "text/plain": [
       "['Agriculture, value added (annual % growth)',\n",
       " 'Exports of goods and services (annual % growth)',\n",
       " 'Final consumption expenditure, etc. (annual % growth)',\n",
       " 'GDP growth (annual %)',\n",
       " 'GDP per capita growth (annual %)',\n",
       " 'General government final consumption expenditure (annual % growth)',\n",
       " 'Gross capital formation (annual % growth)',\n",
       " 'Gross fixed capital formation (annual % growth)',\n",
       " 'Household final consumption expenditure (annual % growth)',\n",
       " 'Household final consumption expenditure per capita growth (annual %)',\n",
       " 'Household final consumption expenditure, etc. (annual % growth)',\n",
       " 'Imports of goods and services (annual % growth)',\n",
       " 'Industry, value added (annual % growth)',\n",
       " 'Manufacturing, value added (annual % growth)',\n",
       " 'Services, etc., value added (annual % growth)']"
      ]
     },
     "execution_count": 16,
     "metadata": {},
     "output_type": "execute_result"
    }
   ],
   "source": [
    "# Economy Indicators\n",
    "economy_ind_query = \"\"\"\n",
    "                    SELECT DISTINCT I.IndicatorName\n",
    "                    FROM Indicators AS I\n",
    "                    INNER JOIN Series AS S\n",
    "                    ON I.IndicatorName = S.IndicatorName\n",
    "                    WHERE Topic LIKE \"Economic Policy & Debt: National accounts: Growth rates\"\n",
    "                    AND CountryCode = \"SGP\";\n",
    "                    \"\"\"\n",
    "\n",
    "economy_ind = pd.read_sql(economy_ind_query, db)\n",
    "\n",
    "economy_ind_list = [x for x in economy_ind[\"IndicatorName\"]]\n",
    "\n",
    "economy_ind_list"
   ]
  },
  {
   "cell_type": "code",
   "execution_count": 17,
   "id": "d26c9da6",
   "metadata": {},
   "outputs": [
    {
     "data": {
      "text/plain": [
       "['Adolescent fertility rate (births per 1,000 women ages 15-19)',\n",
       " 'Age dependency ratio (% of working-age population)',\n",
       " 'Age dependency ratio, old (% of working-age population)',\n",
       " 'Age dependency ratio, young (% of working-age population)',\n",
       " 'Birth rate, crude (per 1,000 people)',\n",
       " 'Births attended by skilled health staff (% of total)',\n",
       " 'Cause of death, by communicable diseases and maternal, prenatal and nutrition conditions (% of total)',\n",
       " 'Cause of death, by injury (% of total)',\n",
       " 'Cause of death, by non-communicable diseases (% of total)',\n",
       " 'Completeness of death registration with cause-of-death information (%)',\n",
       " 'Completeness of infant death reporting (% of reported infant deaths to estimated infant deaths)',\n",
       " 'Completeness of total death reporting (% of reported total deaths to estimated total deaths)',\n",
       " 'Contraceptive prevalence (% of women ages 15-49)',\n",
       " 'Death rate, crude (per 1,000 people)',\n",
       " 'Diabetes prevalence (% of population ages 20 to 79)',\n",
       " 'External resources for health (% of total expenditure on health)',\n",
       " 'Fertility rate, total (births per woman)',\n",
       " 'Health expenditure per capita (current US$)',\n",
       " 'Health expenditure per capita, PPP (constant 2011 international $)',\n",
       " 'Health expenditure, private (% of GDP)',\n",
       " 'Health expenditure, public (% of GDP)',\n",
       " 'Health expenditure, public (% of government expenditure)',\n",
       " 'Health expenditure, public (% of total health expenditure)',\n",
       " 'Health expenditure, total (% of GDP)',\n",
       " 'Hospital beds (per 1,000 people)',\n",
       " 'Immunization, DPT (% of children ages 12-23 months)',\n",
       " 'Immunization, measles (% of children ages 12-23 months)',\n",
       " 'Improved sanitation facilities (% of population with access)',\n",
       " 'Improved sanitation facilities, urban (% of urban population with access)',\n",
       " 'Improved water source (% of population with access)',\n",
       " 'Improved water source, urban (% of urban population with access)',\n",
       " 'Incidence of tuberculosis (per 100,000 people)',\n",
       " 'Life expectancy at birth, female (years)',\n",
       " 'Life expectancy at birth, male (years)',\n",
       " 'Life expectancy at birth, total (years)',\n",
       " 'Lifetime risk of maternal death (%)',\n",
       " 'Lifetime risk of maternal death (1 in: rate varies by country)',\n",
       " 'Low-birthweight babies (% of births)',\n",
       " 'Maternal mortality ratio (modeled estimate, per 100,000 live births)',\n",
       " 'Maternal mortality ratio (national estimate, per 100,000 live births)',\n",
       " 'Mortality rate, adult, female (per 1,000 female adults)',\n",
       " 'Mortality rate, adult, male (per 1,000 male adults)',\n",
       " 'Mortality rate, infant (per 1,000 live births)',\n",
       " 'Mortality rate, infant, female (per 1,000 live births)',\n",
       " 'Mortality rate, infant, male (per 1,000 live births)',\n",
       " 'Mortality rate, neonatal (per 1,000 live births)',\n",
       " 'Mortality rate, under-5, female (per 1,000 live births)',\n",
       " 'Mortality rate, under-5, male (per 1,000 live births)',\n",
       " 'Number of infant deaths',\n",
       " 'Number of maternal deaths',\n",
       " 'Number of neonatal deaths',\n",
       " 'Number of under-five deaths',\n",
       " 'Nurses and midwives (per 1,000 people)',\n",
       " 'Out-of-pocket health expenditure (% of private expenditure on health)',\n",
       " 'Out-of-pocket health expenditure (% of total expenditure on health)',\n",
       " 'Physicians (per 1,000 people)',\n",
       " 'Population ages 65 and above (% of total)',\n",
       " 'Population growth (annual %)',\n",
       " 'Population, female (% of total)',\n",
       " 'Population, total',\n",
       " 'Prevalence of anemia among children (% of children under 5)',\n",
       " 'Prevalence of anemia among non-pregnant women (% of women ages 15-49)',\n",
       " 'Prevalence of anemia among pregnant women (%)',\n",
       " 'Prevalence of overweight, weight for height (% of children under 5)',\n",
       " 'Prevalence of overweight, weight for height, female (% of children under 5)',\n",
       " 'Prevalence of overweight, weight for height, male (% of children under 5)',\n",
       " 'Prevalence of severe wasting, weight for height (% of children under 5)',\n",
       " 'Prevalence of severe wasting, weight for height, female (% of children under 5)',\n",
       " 'Prevalence of severe wasting, weight for height, male (% of children under 5)',\n",
       " 'Prevalence of stunting, height for age (% of children under 5)',\n",
       " 'Prevalence of stunting, height for age, female (% of children under 5)',\n",
       " 'Prevalence of stunting, height for age, male (% of children under 5)',\n",
       " 'Prevalence of underweight, weight for age (% of children under 5)',\n",
       " 'Prevalence of underweight, weight for age, female (% of children under 5)',\n",
       " 'Prevalence of underweight, weight for age, male (% of children under 5)',\n",
       " 'Prevalence of wasting, weight for height (% of children under 5)',\n",
       " 'Prevalence of wasting, weight for height, female (% of children under 5)',\n",
       " 'Prevalence of wasting, weight for height, male (% of children under 5)',\n",
       " 'Smoking prevalence, females (% of adults)',\n",
       " 'Smoking prevalence, males (% of adults)',\n",
       " 'Survival to age 65, female (% of cohort)',\n",
       " 'Survival to age 65, male (% of cohort)',\n",
       " 'Tuberculosis case detection rate (%, all forms)',\n",
       " 'Tuberculosis treatment success rate (% of new cases)']"
      ]
     },
     "execution_count": 17,
     "metadata": {},
     "output_type": "execute_result"
    }
   ],
   "source": [
    "# Health indicators\n",
    "health_ind_query = \"\"\"\n",
    "                SELECT DISTINCT I.IndicatorName\n",
    "                FROM Indicators AS I\n",
    "                INNER JOIN Series AS S\n",
    "                ON I.IndicatorName = S.IndicatorName\n",
    "                WHERE Topic LIKE \"%Health%\"\n",
    "                AND CountryCode = \"SGP\";\n",
    "                \"\"\"\n",
    "\n",
    "health_ind = pd.read_sql(health_ind_query, db)\n",
    "\n",
    "health_ind_list = [x for x in health_ind[\"IndicatorName\"]]\n",
    "\n",
    "health_ind_list"
   ]
  },
  {
   "cell_type": "code",
   "execution_count": 18,
   "id": "5a108fa0",
   "metadata": {},
   "outputs": [
    {
     "data": {
      "text/plain": [
       "['Long-term unemployment (% of total unemployment)',\n",
       " 'Unemployment with primary education (% of total unemployment)',\n",
       " 'Unemployment with primary education, female (% of female unemployment)',\n",
       " 'Unemployment with primary education, male (% of male unemployment)',\n",
       " 'Unemployment with secondary education (% of total unemployment)',\n",
       " 'Unemployment with secondary education, female (% of female unemployment)',\n",
       " 'Unemployment with secondary education, male (% of male unemployment)',\n",
       " 'Unemployment with tertiary education (% of total unemployment)',\n",
       " 'Unemployment with tertiary education, female (% of female unemployment)',\n",
       " 'Unemployment with tertiary education, male (% of male unemployment)',\n",
       " 'Unemployment, female (% of female labor force) (national estimate)',\n",
       " 'Unemployment, male (% of male labor force) (national estimate)',\n",
       " 'Unemployment, total (% of total labor force) (national estimate)',\n",
       " 'Unemployment, youth female (% of female labor force ages 15-24) (modeled ILO estimate)',\n",
       " 'Unemployment, youth female (% of female labor force ages 15-24) (national estimate)',\n",
       " 'Unemployment, youth male (% of male labor force ages 15-24) (modeled ILO estimate)',\n",
       " 'Unemployment, youth male (% of male labor force ages 15-24) (national estimate)',\n",
       " 'Unemployment, youth total (% of total labor force ages 15-24) (modeled ILO estimate)',\n",
       " 'Unemployment, youth total (% of total labor force ages 15-24) (national estimate)']"
      ]
     },
     "execution_count": 18,
     "metadata": {},
     "output_type": "execute_result"
    }
   ],
   "source": [
    "# Unemployment Indicators\n",
    "unemployment_ind_query = \"\"\"\n",
    "                        SELECT DISTINCT I.IndicatorName\n",
    "                        FROM Indicators AS I\n",
    "                        INNER JOIN Series AS S\n",
    "                        ON I.IndicatorName = S.IndicatorName\n",
    "                        WHERE Topic LIKE \"%Unemployment\"\n",
    "                        AND CountryCode = \"SGP\";\n",
    "                        \"\"\"\n",
    "\n",
    "unemployment_ind = pd.read_sql(unemployment_ind_query, db)\n",
    "\n",
    "unemployment_ind_list = [x for x in unemployment_ind[\"IndicatorName\"]]\n",
    "\n",
    "unemployment_ind_list"
   ]
  },
  {
   "cell_type": "markdown",
   "id": "be982737",
   "metadata": {},
   "source": [
    "##### Get each indivdual indicator data for the region"
   ]
  },
  {
   "cell_type": "markdown",
   "id": "22440efc",
   "metadata": {},
   "source": [
    "I will get all the region data for analysis and make mask to filter through analysis"
   ]
  },
  {
   "cell_type": "code",
   "execution_count": 19,
   "id": "7538a756",
   "metadata": {},
   "outputs": [
    {
     "name": "stdout",
     "output_type": "stream",
     "text": [
      "<class 'pandas.core.frame.DataFrame'>\n",
      "RangeIndex: 1272 entries, 0 to 1271\n",
      "Data columns (total 5 columns):\n",
      " #   Column         Non-Null Count  Dtype  \n",
      "---  ------         --------------  -----  \n",
      " 0   CountryName    1272 non-null   object \n",
      " 1   CountryCode    1272 non-null   object \n",
      " 2   IndicatorName  1272 non-null   object \n",
      " 3   Year           1272 non-null   int64  \n",
      " 4   Value          1272 non-null   float64\n",
      "dtypes: float64(1), int64(1), object(3)\n",
      "memory usage: 49.8+ KB\n"
     ]
    }
   ],
   "source": [
    "# GDP per Gapita Growth Annualy Indicator\n",
    "gdp_query = \"\"\"\n",
    "            SELECT I.CountryName, I.CountryCode, I.IndicatorName, Year, Value\n",
    "            FROM Indicators AS I\n",
    "            INNER JOIN Country AS C\n",
    "            ON C.CountryCode = I.CountryCode\n",
    "            WHERE Region = \"East Asia & Pacific\"\n",
    "            AND IndicatorName = \"GDP per capita growth (annual %)\"\n",
    "            \"\"\"\n",
    "\n",
    "gdp = pd.read_sql(gdp_query, db)\n",
    "\n",
    "gdp.info()"
   ]
  },
  {
   "cell_type": "code",
   "execution_count": 20,
   "id": "194f7db0",
   "metadata": {},
   "outputs": [
    {
     "name": "stdout",
     "output_type": "stream",
     "text": [
      "<class 'pandas.core.frame.DataFrame'>\n",
      "RangeIndex: 1681 entries, 0 to 1680\n",
      "Data columns (total 5 columns):\n",
      " #   Column         Non-Null Count  Dtype  \n",
      "---  ------         --------------  -----  \n",
      " 0   CountryName    1681 non-null   object \n",
      " 1   CountryCode    1681 non-null   object \n",
      " 2   IndicatorName  1681 non-null   object \n",
      " 3   Year           1681 non-null   int64  \n",
      " 4   Value          1681 non-null   float64\n",
      "dtypes: float64(1), int64(1), object(3)\n",
      "memory usage: 65.8+ KB\n"
     ]
    }
   ],
   "source": [
    "# Health : Life Expectancy Indicator\n",
    "health_query = \"\"\"\n",
    "            SELECT I.CountryName, I.CountryCode, I.IndicatorName, Year, Value\n",
    "            FROM Indicators AS I\n",
    "            INNER JOIN Country AS C\n",
    "            ON C.CountryCode = I.CountryCode\n",
    "            WHERE Region = \"East Asia & Pacific\"\n",
    "            AND IndicatorName = \"Life expectancy at birth, total (years)\"\n",
    "            \"\"\"\n",
    "\n",
    "health = pd.read_sql(health_query, db)\n",
    "\n",
    "health.info()"
   ]
  },
  {
   "cell_type": "code",
   "execution_count": 21,
   "id": "632c53a2",
   "metadata": {},
   "outputs": [
    {
     "name": "stdout",
     "output_type": "stream",
     "text": [
      "<class 'pandas.core.frame.DataFrame'>\n",
      "RangeIndex: 531 entries, 0 to 530\n",
      "Data columns (total 5 columns):\n",
      " #   Column         Non-Null Count  Dtype  \n",
      "---  ------         --------------  -----  \n",
      " 0   CountryName    531 non-null    object \n",
      " 1   CountryCode    531 non-null    object \n",
      " 2   IndicatorName  531 non-null    object \n",
      " 3   Year           531 non-null    int64  \n",
      " 4   Value          531 non-null    float64\n",
      "dtypes: float64(1), int64(1), object(3)\n",
      "memory usage: 20.9+ KB\n"
     ]
    }
   ],
   "source": [
    "# Unemployment Rates Indicator\n",
    "unemployment_query = \"\"\"\n",
    "            SELECT I.CountryName, I.CountryCode, I.IndicatorName, Year, Value\n",
    "            FROM Indicators AS I\n",
    "            INNER JOIN Country AS C\n",
    "            ON C.CountryCode = I.CountryCode\n",
    "            WHERE Region = \"East Asia & Pacific\"\n",
    "            AND IndicatorName = \"Unemployment, total (% of total labor force) (national estimate)\"\n",
    "            \"\"\"\n",
    "\n",
    "unemployment = pd.read_sql(unemployment_query, db)\n",
    "\n",
    "unemployment.info()"
   ]
  },
  {
   "cell_type": "markdown",
   "id": "9528a0bc",
   "metadata": {},
   "source": [
    "### Data Wrangling\n",
    "\n",
    "Now I have my Dfs for the selected three indicators for all the region country, Next i will clean my data, analyize Singapore progress over year and compare its progress to its region neughbours"
   ]
  },
  {
   "cell_type": "code",
   "execution_count": 22,
   "id": "8f8b449a",
   "metadata": {},
   "outputs": [
    {
     "data": {
      "text/html": [
       "<div>\n",
       "<style scoped>\n",
       "    .dataframe tbody tr th:only-of-type {\n",
       "        vertical-align: middle;\n",
       "    }\n",
       "\n",
       "    .dataframe tbody tr th {\n",
       "        vertical-align: top;\n",
       "    }\n",
       "\n",
       "    .dataframe thead th {\n",
       "        text-align: right;\n",
       "    }\n",
       "</style>\n",
       "<table border=\"1\" class=\"dataframe\">\n",
       "  <thead>\n",
       "    <tr style=\"text-align: right;\">\n",
       "      <th></th>\n",
       "      <th>CountryName</th>\n",
       "      <th>CountryCode</th>\n",
       "      <th>IndicatorName</th>\n",
       "      <th>Year</th>\n",
       "      <th>Value</th>\n",
       "    </tr>\n",
       "  </thead>\n",
       "  <tbody>\n",
       "    <tr>\n",
       "      <th>0</th>\n",
       "      <td>Australia</td>\n",
       "      <td>AUS</td>\n",
       "      <td>GDP per capita growth (annual %)</td>\n",
       "      <td>1961</td>\n",
       "      <td>0.457076</td>\n",
       "    </tr>\n",
       "    <tr>\n",
       "      <th>1</th>\n",
       "      <td>Australia</td>\n",
       "      <td>AUS</td>\n",
       "      <td>GDP per capita growth (annual %)</td>\n",
       "      <td>1962</td>\n",
       "      <td>-1.115531</td>\n",
       "    </tr>\n",
       "    <tr>\n",
       "      <th>2</th>\n",
       "      <td>Australia</td>\n",
       "      <td>AUS</td>\n",
       "      <td>GDP per capita growth (annual %)</td>\n",
       "      <td>1963</td>\n",
       "      <td>4.194893</td>\n",
       "    </tr>\n",
       "    <tr>\n",
       "      <th>3</th>\n",
       "      <td>Australia</td>\n",
       "      <td>AUS</td>\n",
       "      <td>GDP per capita growth (annual %)</td>\n",
       "      <td>1964</td>\n",
       "      <td>4.897367</td>\n",
       "    </tr>\n",
       "    <tr>\n",
       "      <th>4</th>\n",
       "      <td>Australia</td>\n",
       "      <td>AUS</td>\n",
       "      <td>GDP per capita growth (annual %)</td>\n",
       "      <td>1965</td>\n",
       "      <td>3.923330</td>\n",
       "    </tr>\n",
       "  </tbody>\n",
       "</table>\n",
       "</div>"
      ],
      "text/plain": [
       "  CountryName CountryCode                     IndicatorName  Year     Value\n",
       "0   Australia         AUS  GDP per capita growth (annual %)  1961  0.457076\n",
       "1   Australia         AUS  GDP per capita growth (annual %)  1962 -1.115531\n",
       "2   Australia         AUS  GDP per capita growth (annual %)  1963  4.194893\n",
       "3   Australia         AUS  GDP per capita growth (annual %)  1964  4.897367\n",
       "4   Australia         AUS  GDP per capita growth (annual %)  1965  3.923330"
      ]
     },
     "execution_count": 22,
     "metadata": {},
     "output_type": "execute_result"
    }
   ],
   "source": [
    "# GDP wrangling\n",
    "gdp.head()"
   ]
  },
  {
   "cell_type": "code",
   "execution_count": 23,
   "id": "d5e33e3b",
   "metadata": {},
   "outputs": [
    {
     "data": {
      "text/plain": [
       "CountryName       object\n",
       "CountryCode       object\n",
       "IndicatorName     object\n",
       "Year               int64\n",
       "Value            float64\n",
       "dtype: object"
      ]
     },
     "execution_count": 23,
     "metadata": {},
     "output_type": "execute_result"
    }
   ],
   "source": [
    "gdp.dtypes"
   ]
  },
  {
   "cell_type": "code",
   "execution_count": 24,
   "id": "4e1737fa",
   "metadata": {},
   "outputs": [
    {
     "data": {
      "text/plain": [
       "(1272, 5)"
      ]
     },
     "execution_count": 24,
     "metadata": {},
     "output_type": "execute_result"
    }
   ],
   "source": [
    "gdp.shape"
   ]
  },
  {
   "cell_type": "code",
   "execution_count": 25,
   "id": "0d4d6faf",
   "metadata": {},
   "outputs": [
    {
     "data": {
      "text/html": [
       "<div>\n",
       "<style scoped>\n",
       "    .dataframe tbody tr th:only-of-type {\n",
       "        vertical-align: middle;\n",
       "    }\n",
       "\n",
       "    .dataframe tbody tr th {\n",
       "        vertical-align: top;\n",
       "    }\n",
       "\n",
       "    .dataframe thead th {\n",
       "        text-align: right;\n",
       "    }\n",
       "</style>\n",
       "<table border=\"1\" class=\"dataframe\">\n",
       "  <thead>\n",
       "    <tr style=\"text-align: right;\">\n",
       "      <th></th>\n",
       "      <th>Year</th>\n",
       "      <th>Value</th>\n",
       "    </tr>\n",
       "  </thead>\n",
       "  <tbody>\n",
       "    <tr>\n",
       "      <th>count</th>\n",
       "      <td>1272.000000</td>\n",
       "      <td>1272.000000</td>\n",
       "    </tr>\n",
       "    <tr>\n",
       "      <th>mean</th>\n",
       "      <td>1991.669025</td>\n",
       "      <td>2.832019</td>\n",
       "    </tr>\n",
       "    <tr>\n",
       "      <th>std</th>\n",
       "      <td>14.403745</td>\n",
       "      <td>5.414118</td>\n",
       "    </tr>\n",
       "    <tr>\n",
       "      <th>min</th>\n",
       "      <td>1961.000000</td>\n",
       "      <td>-45.222114</td>\n",
       "    </tr>\n",
       "    <tr>\n",
       "      <th>25%</th>\n",
       "      <td>1981.000000</td>\n",
       "      <td>0.225935</td>\n",
       "    </tr>\n",
       "    <tr>\n",
       "      <th>50%</th>\n",
       "      <td>1993.000000</td>\n",
       "      <td>3.023345</td>\n",
       "    </tr>\n",
       "    <tr>\n",
       "      <th>75%</th>\n",
       "      <td>2004.000000</td>\n",
       "      <td>5.696792</td>\n",
       "    </tr>\n",
       "    <tr>\n",
       "      <th>max</th>\n",
       "      <td>2014.000000</td>\n",
       "      <td>43.226695</td>\n",
       "    </tr>\n",
       "  </tbody>\n",
       "</table>\n",
       "</div>"
      ],
      "text/plain": [
       "              Year        Value\n",
       "count  1272.000000  1272.000000\n",
       "mean   1991.669025     2.832019\n",
       "std      14.403745     5.414118\n",
       "min    1961.000000   -45.222114\n",
       "25%    1981.000000     0.225935\n",
       "50%    1993.000000     3.023345\n",
       "75%    2004.000000     5.696792\n",
       "max    2014.000000    43.226695"
      ]
     },
     "execution_count": 25,
     "metadata": {},
     "output_type": "execute_result"
    }
   ],
   "source": [
    "gdp.describe()"
   ]
  },
  {
   "cell_type": "code",
   "execution_count": 26,
   "id": "a08fe412",
   "metadata": {},
   "outputs": [
    {
     "data": {
      "text/html": [
       "<div>\n",
       "<style scoped>\n",
       "    .dataframe tbody tr th:only-of-type {\n",
       "        vertical-align: middle;\n",
       "    }\n",
       "\n",
       "    .dataframe tbody tr th {\n",
       "        vertical-align: top;\n",
       "    }\n",
       "\n",
       "    .dataframe thead th {\n",
       "        text-align: right;\n",
       "    }\n",
       "</style>\n",
       "<table border=\"1\" class=\"dataframe\">\n",
       "  <thead>\n",
       "    <tr style=\"text-align: right;\">\n",
       "      <th></th>\n",
       "      <th>CountryName</th>\n",
       "      <th>CountryCode</th>\n",
       "      <th>IndicatorName</th>\n",
       "      <th>Year</th>\n",
       "      <th>Value</th>\n",
       "    </tr>\n",
       "  </thead>\n",
       "  <tbody>\n",
       "    <tr>\n",
       "      <th>0</th>\n",
       "      <td>Australia</td>\n",
       "      <td>AUS</td>\n",
       "      <td>Life expectancy at birth, total (years)</td>\n",
       "      <td>1960</td>\n",
       "      <td>70.817073</td>\n",
       "    </tr>\n",
       "    <tr>\n",
       "      <th>1</th>\n",
       "      <td>Australia</td>\n",
       "      <td>AUS</td>\n",
       "      <td>Life expectancy at birth, total (years)</td>\n",
       "      <td>1961</td>\n",
       "      <td>70.973171</td>\n",
       "    </tr>\n",
       "    <tr>\n",
       "      <th>2</th>\n",
       "      <td>Australia</td>\n",
       "      <td>AUS</td>\n",
       "      <td>Life expectancy at birth, total (years)</td>\n",
       "      <td>1962</td>\n",
       "      <td>70.942439</td>\n",
       "    </tr>\n",
       "    <tr>\n",
       "      <th>3</th>\n",
       "      <td>Australia</td>\n",
       "      <td>AUS</td>\n",
       "      <td>Life expectancy at birth, total (years)</td>\n",
       "      <td>1963</td>\n",
       "      <td>70.911707</td>\n",
       "    </tr>\n",
       "    <tr>\n",
       "      <th>4</th>\n",
       "      <td>Australia</td>\n",
       "      <td>AUS</td>\n",
       "      <td>Life expectancy at birth, total (years)</td>\n",
       "      <td>1964</td>\n",
       "      <td>70.880976</td>\n",
       "    </tr>\n",
       "  </tbody>\n",
       "</table>\n",
       "</div>"
      ],
      "text/plain": [
       "  CountryName CountryCode                            IndicatorName  Year  \\\n",
       "0   Australia         AUS  Life expectancy at birth, total (years)  1960   \n",
       "1   Australia         AUS  Life expectancy at birth, total (years)  1961   \n",
       "2   Australia         AUS  Life expectancy at birth, total (years)  1962   \n",
       "3   Australia         AUS  Life expectancy at birth, total (years)  1963   \n",
       "4   Australia         AUS  Life expectancy at birth, total (years)  1964   \n",
       "\n",
       "       Value  \n",
       "0  70.817073  \n",
       "1  70.973171  \n",
       "2  70.942439  \n",
       "3  70.911707  \n",
       "4  70.880976  "
      ]
     },
     "execution_count": 26,
     "metadata": {},
     "output_type": "execute_result"
    }
   ],
   "source": [
    "# life Expectancy Wrangling\n",
    "health.head()"
   ]
  },
  {
   "cell_type": "code",
   "execution_count": 27,
   "id": "e5628997",
   "metadata": {},
   "outputs": [
    {
     "data": {
      "text/plain": [
       "CountryName       object\n",
       "CountryCode       object\n",
       "IndicatorName     object\n",
       "Year               int64\n",
       "Value            float64\n",
       "dtype: object"
      ]
     },
     "execution_count": 27,
     "metadata": {},
     "output_type": "execute_result"
    }
   ],
   "source": [
    "health.dtypes"
   ]
  },
  {
   "cell_type": "code",
   "execution_count": 28,
   "id": "22c7a3ae",
   "metadata": {},
   "outputs": [
    {
     "data": {
      "text/html": [
       "<div>\n",
       "<style scoped>\n",
       "    .dataframe tbody tr th:only-of-type {\n",
       "        vertical-align: middle;\n",
       "    }\n",
       "\n",
       "    .dataframe tbody tr th {\n",
       "        vertical-align: top;\n",
       "    }\n",
       "\n",
       "    .dataframe thead th {\n",
       "        text-align: right;\n",
       "    }\n",
       "</style>\n",
       "<table border=\"1\" class=\"dataframe\">\n",
       "  <thead>\n",
       "    <tr style=\"text-align: right;\">\n",
       "      <th></th>\n",
       "      <th>Year</th>\n",
       "      <th>Value</th>\n",
       "    </tr>\n",
       "  </thead>\n",
       "  <tbody>\n",
       "    <tr>\n",
       "      <th>count</th>\n",
       "      <td>1681.000000</td>\n",
       "      <td>1681.000000</td>\n",
       "    </tr>\n",
       "    <tr>\n",
       "      <th>mean</th>\n",
       "      <td>1986.541939</td>\n",
       "      <td>65.006619</td>\n",
       "    </tr>\n",
       "    <tr>\n",
       "      <th>std</th>\n",
       "      <td>15.575991</td>\n",
       "      <td>9.983934</td>\n",
       "    </tr>\n",
       "    <tr>\n",
       "      <th>min</th>\n",
       "      <td>1960.000000</td>\n",
       "      <td>19.265512</td>\n",
       "    </tr>\n",
       "    <tr>\n",
       "      <th>25%</th>\n",
       "      <td>1973.000000</td>\n",
       "      <td>59.381220</td>\n",
       "    </tr>\n",
       "    <tr>\n",
       "      <th>50%</th>\n",
       "      <td>1987.000000</td>\n",
       "      <td>66.330098</td>\n",
       "    </tr>\n",
       "    <tr>\n",
       "      <th>75%</th>\n",
       "      <td>2000.000000</td>\n",
       "      <td>71.822366</td>\n",
       "    </tr>\n",
       "    <tr>\n",
       "      <th>max</th>\n",
       "      <td>2013.000000</td>\n",
       "      <td>83.831707</td>\n",
       "    </tr>\n",
       "  </tbody>\n",
       "</table>\n",
       "</div>"
      ],
      "text/plain": [
       "              Year        Value\n",
       "count  1681.000000  1681.000000\n",
       "mean   1986.541939    65.006619\n",
       "std      15.575991     9.983934\n",
       "min    1960.000000    19.265512\n",
       "25%    1973.000000    59.381220\n",
       "50%    1987.000000    66.330098\n",
       "75%    2000.000000    71.822366\n",
       "max    2013.000000    83.831707"
      ]
     },
     "execution_count": 28,
     "metadata": {},
     "output_type": "execute_result"
    }
   ],
   "source": [
    "health.describe()"
   ]
  },
  {
   "cell_type": "code",
   "execution_count": 29,
   "id": "6e05c269",
   "metadata": {},
   "outputs": [
    {
     "data": {
      "text/html": [
       "<div>\n",
       "<style scoped>\n",
       "    .dataframe tbody tr th:only-of-type {\n",
       "        vertical-align: middle;\n",
       "    }\n",
       "\n",
       "    .dataframe tbody tr th {\n",
       "        vertical-align: top;\n",
       "    }\n",
       "\n",
       "    .dataframe thead th {\n",
       "        text-align: right;\n",
       "    }\n",
       "</style>\n",
       "<table border=\"1\" class=\"dataframe\">\n",
       "  <thead>\n",
       "    <tr style=\"text-align: right;\">\n",
       "      <th></th>\n",
       "      <th>CountryName</th>\n",
       "      <th>CountryCode</th>\n",
       "      <th>IndicatorName</th>\n",
       "      <th>Year</th>\n",
       "      <th>Value</th>\n",
       "    </tr>\n",
       "  </thead>\n",
       "  <tbody>\n",
       "    <tr>\n",
       "      <th>0</th>\n",
       "      <td>American Samoa</td>\n",
       "      <td>ASM</td>\n",
       "      <td>Unemployment, total (% of total labor force) (...</td>\n",
       "      <td>1980</td>\n",
       "      <td>12.4</td>\n",
       "    </tr>\n",
       "    <tr>\n",
       "      <th>1</th>\n",
       "      <td>American Samoa</td>\n",
       "      <td>ASM</td>\n",
       "      <td>Unemployment, total (% of total labor force) (...</td>\n",
       "      <td>1981</td>\n",
       "      <td>10.6</td>\n",
       "    </tr>\n",
       "    <tr>\n",
       "      <th>2</th>\n",
       "      <td>American Samoa</td>\n",
       "      <td>ASM</td>\n",
       "      <td>Unemployment, total (% of total labor force) (...</td>\n",
       "      <td>1982</td>\n",
       "      <td>12.8</td>\n",
       "    </tr>\n",
       "    <tr>\n",
       "      <th>3</th>\n",
       "      <td>American Samoa</td>\n",
       "      <td>ASM</td>\n",
       "      <td>Unemployment, total (% of total labor force) (...</td>\n",
       "      <td>1983</td>\n",
       "      <td>13.0</td>\n",
       "    </tr>\n",
       "    <tr>\n",
       "      <th>4</th>\n",
       "      <td>American Samoa</td>\n",
       "      <td>ASM</td>\n",
       "      <td>Unemployment, total (% of total labor force) (...</td>\n",
       "      <td>1984</td>\n",
       "      <td>13.1</td>\n",
       "    </tr>\n",
       "  </tbody>\n",
       "</table>\n",
       "</div>"
      ],
      "text/plain": [
       "      CountryName CountryCode  \\\n",
       "0  American Samoa         ASM   \n",
       "1  American Samoa         ASM   \n",
       "2  American Samoa         ASM   \n",
       "3  American Samoa         ASM   \n",
       "4  American Samoa         ASM   \n",
       "\n",
       "                                       IndicatorName  Year  Value  \n",
       "0  Unemployment, total (% of total labor force) (...  1980   12.4  \n",
       "1  Unemployment, total (% of total labor force) (...  1981   10.6  \n",
       "2  Unemployment, total (% of total labor force) (...  1982   12.8  \n",
       "3  Unemployment, total (% of total labor force) (...  1983   13.0  \n",
       "4  Unemployment, total (% of total labor force) (...  1984   13.1  "
      ]
     },
     "execution_count": 29,
     "metadata": {},
     "output_type": "execute_result"
    }
   ],
   "source": [
    "# Unemployemnt wrangling\n",
    "unemployment.head()"
   ]
  },
  {
   "cell_type": "code",
   "execution_count": 30,
   "id": "a21d5951",
   "metadata": {},
   "outputs": [
    {
     "data": {
      "text/plain": [
       "CountryName       object\n",
       "CountryCode       object\n",
       "IndicatorName     object\n",
       "Year               int64\n",
       "Value            float64\n",
       "dtype: object"
      ]
     },
     "execution_count": 30,
     "metadata": {},
     "output_type": "execute_result"
    }
   ],
   "source": [
    "unemployment.dtypes"
   ]
  },
  {
   "cell_type": "code",
   "execution_count": 31,
   "id": "57cb8a46",
   "metadata": {},
   "outputs": [
    {
     "data": {
      "text/html": [
       "<div>\n",
       "<style scoped>\n",
       "    .dataframe tbody tr th:only-of-type {\n",
       "        vertical-align: middle;\n",
       "    }\n",
       "\n",
       "    .dataframe tbody tr th {\n",
       "        vertical-align: top;\n",
       "    }\n",
       "\n",
       "    .dataframe thead th {\n",
       "        text-align: right;\n",
       "    }\n",
       "</style>\n",
       "<table border=\"1\" class=\"dataframe\">\n",
       "  <thead>\n",
       "    <tr style=\"text-align: right;\">\n",
       "      <th></th>\n",
       "      <th>Year</th>\n",
       "      <th>Value</th>\n",
       "    </tr>\n",
       "  </thead>\n",
       "  <tbody>\n",
       "    <tr>\n",
       "      <th>count</th>\n",
       "      <td>531.000000</td>\n",
       "      <td>531.000000</td>\n",
       "    </tr>\n",
       "    <tr>\n",
       "      <th>mean</th>\n",
       "      <td>1998.222222</td>\n",
       "      <td>5.275330</td>\n",
       "    </tr>\n",
       "    <tr>\n",
       "      <th>std</th>\n",
       "      <td>9.887841</td>\n",
       "      <td>3.650972</td>\n",
       "    </tr>\n",
       "    <tr>\n",
       "      <th>min</th>\n",
       "      <td>1980.000000</td>\n",
       "      <td>0.100000</td>\n",
       "    </tr>\n",
       "    <tr>\n",
       "      <th>25%</th>\n",
       "      <td>1990.000000</td>\n",
       "      <td>2.900000</td>\n",
       "    </tr>\n",
       "    <tr>\n",
       "      <th>50%</th>\n",
       "      <td>1999.000000</td>\n",
       "      <td>4.300000</td>\n",
       "    </tr>\n",
       "    <tr>\n",
       "      <th>75%</th>\n",
       "      <td>2007.000000</td>\n",
       "      <td>6.950000</td>\n",
       "    </tr>\n",
       "    <tr>\n",
       "      <th>max</th>\n",
       "      <td>2014.000000</td>\n",
       "      <td>31.900000</td>\n",
       "    </tr>\n",
       "  </tbody>\n",
       "</table>\n",
       "</div>"
      ],
      "text/plain": [
       "              Year       Value\n",
       "count   531.000000  531.000000\n",
       "mean   1998.222222    5.275330\n",
       "std       9.887841    3.650972\n",
       "min    1980.000000    0.100000\n",
       "25%    1990.000000    2.900000\n",
       "50%    1999.000000    4.300000\n",
       "75%    2007.000000    6.950000\n",
       "max    2014.000000   31.900000"
      ]
     },
     "execution_count": 31,
     "metadata": {},
     "output_type": "execute_result"
    }
   ],
   "source": [
    "unemployment.describe()"
   ]
  },
  {
   "cell_type": "markdown",
   "id": "139d9770",
   "metadata": {},
   "source": [
    "##### Notes"
   ]
  },
  {
   "cell_type": "markdown",
   "id": "b9faf1f9",
   "metadata": {},
   "source": [
    "<li>In the health and GDP Dfs it has very neay start and end year range with only 1 year difference (1960/1961 --> 2013/2014_\n",
    "<li>In unemployment Dfs it has data starts from 1980 only which mean "
   ]
  },
  {
   "cell_type": "markdown",
   "id": "0c3ed51a",
   "metadata": {},
   "source": [
    "### Explotery Data Analysis For Singapore\n"
   ]
  },
  {
   "cell_type": "markdown",
   "id": "0affd1fe",
   "metadata": {},
   "source": [
    "I will analyize singapore indicators data the goal is to answer the following Question:\n",
    "\n",
    "\n",
    "## Q: How singapore development progess over the years ?"
   ]
  },
  {
   "cell_type": "code",
   "execution_count": 32,
   "id": "0e20e39a",
   "metadata": {},
   "outputs": [],
   "source": [
    "# First i will get singapore data only\n",
    "singapore_gdp = gdp[gdp[\"CountryCode\"] == \"SGP\"]\n",
    "singapore_health = health[health[\"CountryCode\"] == \"SGP\"]\n",
    "singapore_unemployment = unemployment[unemployment[\"CountryCode\"] == \"SGP\"]"
   ]
  },
  {
   "cell_type": "markdown",
   "id": "f6b2dd03",
   "metadata": {},
   "source": [
    "###### 1- How Economy Devloped over the years in Singapore ?"
   ]
  },
  {
   "cell_type": "code",
   "execution_count": 33,
   "id": "dacd1e64",
   "metadata": {},
   "outputs": [
    {
     "data": {
      "image/png": "[encoded data removed]",
      "text/plain": [
       "<Figure size 432x288 with 1 Axes>"
      ]
     },
     "metadata": {
      "needs_background": "light"
     },
     "output_type": "display_data"
    }
   ],
   "source": [
    "# Use line plot to measure the GDP\n",
    "plt.plot(singapore_gdp[\"Year\"].values, singapore_gdp[\"Value\"].values)\n",
    "\n",
    "plt.title('GPD Per Capita From 1960 to 2014')\n",
    "plt.rcParams[\"figure.figsize\"] = (7.5,5)\n",
    "\n",
    "plt.ylabel('GPD per Capita')\n",
    "plt.xlabel('Years')\n",
    "\n",
    "plt.show()"
   ]
  },
  {
   "cell_type": "markdown",
   "id": "d32a3c6f",
   "metadata": {},
   "source": [
    "There is no steady progress line and in the latest years it has been declined in GDP per Capita"
   ]
  },
  {
   "cell_type": "code",
   "execution_count": 34,
   "id": "cd27de4e",
   "metadata": {},
   "outputs": [],
   "source": [
    "#plot the value at 1960 and the value at 2014\n",
    "values = singapore_gdp.iloc[[0, -1]]"
   ]
  },
  {
   "cell_type": "code",
   "execution_count": 35,
   "id": "009ae0c4",
   "metadata": {},
   "outputs": [
    {
     "data": {
      "text/html": [
       "<div>\n",
       "<style scoped>\n",
       "    .dataframe tbody tr th:only-of-type {\n",
       "        vertical-align: middle;\n",
       "    }\n",
       "\n",
       "    .dataframe tbody tr th {\n",
       "        vertical-align: top;\n",
       "    }\n",
       "\n",
       "    .dataframe thead th {\n",
       "        text-align: right;\n",
       "    }\n",
       "</style>\n",
       "<table border=\"1\" class=\"dataframe\">\n",
       "  <thead>\n",
       "    <tr style=\"text-align: right;\">\n",
       "      <th></th>\n",
       "      <th>CountryName</th>\n",
       "      <th>CountryCode</th>\n",
       "      <th>IndicatorName</th>\n",
       "      <th>Year</th>\n",
       "      <th>Value</th>\n",
       "    </tr>\n",
       "  </thead>\n",
       "  <tbody>\n",
       "    <tr>\n",
       "      <th>1003</th>\n",
       "      <td>Singapore</td>\n",
       "      <td>SGP</td>\n",
       "      <td>GDP per capita growth (annual %)</td>\n",
       "      <td>1961</td>\n",
       "      <td>4.580466</td>\n",
       "    </tr>\n",
       "    <tr>\n",
       "      <th>1056</th>\n",
       "      <td>Singapore</td>\n",
       "      <td>SGP</td>\n",
       "      <td>GDP per capita growth (annual %)</td>\n",
       "      <td>2014</td>\n",
       "      <td>1.591855</td>\n",
       "    </tr>\n",
       "  </tbody>\n",
       "</table>\n",
       "</div>"
      ],
      "text/plain": [
       "     CountryName CountryCode                     IndicatorName  Year     Value\n",
       "1003   Singapore         SGP  GDP per capita growth (annual %)  1961  4.580466\n",
       "1056   Singapore         SGP  GDP per capita growth (annual %)  2014  1.591855"
      ]
     },
     "execution_count": 35,
     "metadata": {},
     "output_type": "execute_result"
    }
   ],
   "source": [
    "values.head()"
   ]
  },
  {
   "cell_type": "code",
   "execution_count": 75,
   "id": "4ad79f1f",
   "metadata": {},
   "outputs": [
    {
     "data": {
      "text/plain": [
       "Text(0.5, 0, 'Years')"
      ]
     },
     "execution_count": 75,
     "metadata": {},
     "output_type": "execute_result"
    },
    {
     "data": {
      "image/png": "[encoded data removed]",
      "text/plain": [
       "<Figure size 540x360 with 1 Axes>"
      ]
     },
     "metadata": {
      "needs_background": "light"
     },
     "output_type": "display_data"
    }
   ],
   "source": [
    "# bar plot\n",
    "plt.bar(values.Year, values.Value)\n",
    "\n",
    "plt.title('GPD Per Capita difference between 1960 and 2014')\n",
    "\n",
    "plt.ylabel('GPD per Capita')\n",
    "plt.xlabel('Years')"
   ]
  },
  {
   "cell_type": "markdown",
   "id": "7d2158e1",
   "metadata": {},
   "source": [
    "Here also i see that the value of GDP t the start of our analysis period is higher than the last one"
   ]
  },
  {
   "cell_type": "code",
   "execution_count": 37,
   "id": "a124008c",
   "metadata": {},
   "outputs": [],
   "source": [
    "# I will compare the value at 2014 to the mean value of GDP \n",
    "x = [1, \"mean\", \"2014\"]\n",
    "y = [singapore_gdp[\"Value\"].mean(), singapore_gdp[singapore_gdp[\"Year\"] == 2014][\"Value\"].values[0]]\n",
    "df = pd.DataFrame(data = y, columns = [\"Value\"], index = [\"2014\", \"Mean\"])"
   ]
  },
  {
   "cell_type": "code",
   "execution_count": 38,
   "id": "607fc9fa",
   "metadata": {},
   "outputs": [
    {
     "data": {
      "text/html": [
       "<div>\n",
       "<style scoped>\n",
       "    .dataframe tbody tr th:only-of-type {\n",
       "        vertical-align: middle;\n",
       "    }\n",
       "\n",
       "    .dataframe tbody tr th {\n",
       "        vertical-align: top;\n",
       "    }\n",
       "\n",
       "    .dataframe thead th {\n",
       "        text-align: right;\n",
       "    }\n",
       "</style>\n",
       "<table border=\"1\" class=\"dataframe\">\n",
       "  <thead>\n",
       "    <tr style=\"text-align: right;\">\n",
       "      <th></th>\n",
       "      <th>Value</th>\n",
       "    </tr>\n",
       "  </thead>\n",
       "  <tbody>\n",
       "    <tr>\n",
       "      <th>2014</th>\n",
       "      <td>5.239174</td>\n",
       "    </tr>\n",
       "    <tr>\n",
       "      <th>Mean</th>\n",
       "      <td>1.591855</td>\n",
       "    </tr>\n",
       "  </tbody>\n",
       "</table>\n",
       "</div>"
      ],
      "text/plain": [
       "         Value\n",
       "2014  5.239174\n",
       "Mean  1.591855"
      ]
     },
     "execution_count": 38,
     "metadata": {},
     "output_type": "execute_result"
    }
   ],
   "source": [
    "df.head()"
   ]
  },
  {
   "cell_type": "code",
   "execution_count": 39,
   "id": "8ca32f27",
   "metadata": {},
   "outputs": [
    {
     "data": {
      "text/plain": [
       "Text(0, 0.5, 'Value')"
      ]
     },
     "execution_count": 39,
     "metadata": {},
     "output_type": "execute_result"
    },
    {
     "data": {
      "image/png": "[encoded data removed]",
      "text/plain": [
       "<Figure size 540x360 with 1 Axes>"
      ]
     },
     "metadata": {
      "needs_background": "light"
     },
     "output_type": "display_data"
    }
   ],
   "source": [
    "# plot the two values\n",
    "x = [\"Meab Value\", \"2014 Value\"]\n",
    "plt.bar(df.index, df[\"Value\"].values);\n",
    "\n",
    "plt.title(\"Compare between mean value and 2014 Value\")\n",
    "plt.xlabel(\"Compared Values\")\n",
    "plt.ylabel(\"Value\")"
   ]
  },
  {
   "cell_type": "markdown",
   "id": "404574f6",
   "metadata": {},
   "source": [
    "I notice compare to the mean the value at 2014 after the decline it still good comparing to the mean value, the value at 1960 was before independence"
   ]
  },
  {
   "cell_type": "markdown",
   "id": "20c50f1e",
   "metadata": {},
   "source": [
    "##### Q2: How singapore Compare on the GDP at 2014 between Region countries ?"
   ]
  },
  {
   "cell_type": "code",
   "execution_count": 40,
   "id": "9816a463",
   "metadata": {},
   "outputs": [],
   "source": [
    "gdp_compare = gdp[gdp[\"Year\"] == 2014]"
   ]
  },
  {
   "cell_type": "code",
   "execution_count": 41,
   "id": "9e184796",
   "metadata": {},
   "outputs": [
    {
     "data": {
      "text/html": [
       "<div>\n",
       "<style scoped>\n",
       "    .dataframe tbody tr th:only-of-type {\n",
       "        vertical-align: middle;\n",
       "    }\n",
       "\n",
       "    .dataframe tbody tr th {\n",
       "        vertical-align: top;\n",
       "    }\n",
       "\n",
       "    .dataframe thead th {\n",
       "        text-align: right;\n",
       "    }\n",
       "</style>\n",
       "<table border=\"1\" class=\"dataframe\">\n",
       "  <thead>\n",
       "    <tr style=\"text-align: right;\">\n",
       "      <th></th>\n",
       "      <th>CountryName</th>\n",
       "      <th>CountryCode</th>\n",
       "      <th>IndicatorName</th>\n",
       "      <th>Year</th>\n",
       "      <th>Value</th>\n",
       "    </tr>\n",
       "  </thead>\n",
       "  <tbody>\n",
       "    <tr>\n",
       "      <th>53</th>\n",
       "      <td>Australia</td>\n",
       "      <td>AUS</td>\n",
       "      <td>GDP per capita growth (annual %)</td>\n",
       "      <td>2014</td>\n",
       "      <td>0.907780</td>\n",
       "    </tr>\n",
       "    <tr>\n",
       "      <th>93</th>\n",
       "      <td>Brunei Darussalam</td>\n",
       "      <td>BRN</td>\n",
       "      <td>GDP per capita growth (annual %)</td>\n",
       "      <td>2014</td>\n",
       "      <td>-3.719286</td>\n",
       "    </tr>\n",
       "    <tr>\n",
       "      <th>114</th>\n",
       "      <td>Cambodia</td>\n",
       "      <td>KHM</td>\n",
       "      <td>GDP per capita growth (annual %)</td>\n",
       "      <td>2014</td>\n",
       "      <td>5.328192</td>\n",
       "    </tr>\n",
       "    <tr>\n",
       "      <th>168</th>\n",
       "      <td>China</td>\n",
       "      <td>CHN</td>\n",
       "      <td>GDP per capita growth (annual %)</td>\n",
       "      <td>2014</td>\n",
       "      <td>6.726721</td>\n",
       "    </tr>\n",
       "    <tr>\n",
       "      <th>222</th>\n",
       "      <td>Fiji</td>\n",
       "      <td>FJI</td>\n",
       "      <td>GDP per capita growth (annual %)</td>\n",
       "      <td>2014</td>\n",
       "      <td>6.225178</td>\n",
       "    </tr>\n",
       "  </tbody>\n",
       "</table>\n",
       "</div>"
      ],
      "text/plain": [
       "           CountryName CountryCode                     IndicatorName  Year  \\\n",
       "53           Australia         AUS  GDP per capita growth (annual %)  2014   \n",
       "93   Brunei Darussalam         BRN  GDP per capita growth (annual %)  2014   \n",
       "114           Cambodia         KHM  GDP per capita growth (annual %)  2014   \n",
       "168              China         CHN  GDP per capita growth (annual %)  2014   \n",
       "222               Fiji         FJI  GDP per capita growth (annual %)  2014   \n",
       "\n",
       "        Value  \n",
       "53   0.907780  \n",
       "93  -3.719286  \n",
       "114  5.328192  \n",
       "168  6.726721  \n",
       "222  6.225178  "
      ]
     },
     "execution_count": 41,
     "metadata": {},
     "output_type": "execute_result"
    }
   ],
   "source": [
    "gdp_compare.head()"
   ]
  },
  {
   "cell_type": "code",
   "execution_count": 57,
   "id": "2a8283c9",
   "metadata": {},
   "outputs": [],
   "source": [
    "gdp_compare = gdp_compare.sort_values(by = \"Value\")"
   ]
  },
  {
   "cell_type": "code",
   "execution_count": 58,
   "id": "b42bf366",
   "metadata": {},
   "outputs": [],
   "source": [
    "# define a function to create the horizontal bar plot\n",
    "def h_bar_plot(df, title, xlabel, ylabel):\n",
    "    plt.barh(df.CountryName.values, df.Value.values)\n",
    "\n",
    "    plt.title('{}'.format(title))\n",
    "\n",
    "    plt.ylabel('{}'.format(ylabel))\n",
    "    plt.xlabel('{}'.format(xlabel))\n",
    "    \n",
    "    return plt.show()"
   ]
  },
  {
   "cell_type": "code",
   "execution_count": 60,
   "id": "c895bd01",
   "metadata": {},
   "outputs": [
    {
     "data": {
      "image/png": "[encoded data removed]",
      "text/plain": [
       "<Figure size 504x360 with 1 Axes>"
      ]
     },
     "metadata": {
      "needs_background": "light"
     },
     "output_type": "display_data"
    }
   ],
   "source": [
    "h_bar_plot(gdp_compare, \"GDP Per Capita East Asia and Pacific Comparison\", \"GDP per Capita 2014\", \"Country\")\n",
    "plt.rcParams[\"figure.figsize\"] = (15,20)\n"
   ]
  },
  {
   "cell_type": "markdown",
   "id": "f7e8f65a",
   "metadata": {},
   "source": [
    "#### singapore in the 8th Place "
   ]
  },
  {
   "cell_type": "markdown",
   "id": "b4052cb8",
   "metadata": {},
   "source": [
    "### 2- How health Devloped over the years in Singapore ?"
   ]
  },
  {
   "cell_type": "markdown",
   "id": "81c703fd",
   "metadata": {},
   "source": [
    "\n"
   ]
  },
  {
   "cell_type": "code",
   "execution_count": 62,
   "id": "e9bf3b46",
   "metadata": {},
   "outputs": [
    {
     "data": {
      "image/png": "[encoded data removed]",
      "text/plain": [
       "<Figure size 540x360 with 1 Axes>"
      ]
     },
     "metadata": {
      "needs_background": "light"
     },
     "output_type": "display_data"
    }
   ],
   "source": [
    "# Use line plot to analyize the Life Expectancy\n",
    "plt.plot(singapore_health[\"Year\"].values, singapore_health[\"Value\"].values)\n",
    "\n",
    "plt.title('Life Expectancy From 1960 to 2014')\n",
    "plt.rcParams[\"figure.figsize\"] = (7.5,5)\n",
    "\n",
    "plt.ylabel('Life Expectancy')\n",
    "plt.xlabel('Years')\n",
    "\n",
    "plt.show()"
   ]
  },
  {
   "cell_type": "markdown",
   "id": "abe2cfdd",
   "metadata": {},
   "source": [
    "The health of the population has steady increase trend line which means it has developed through the last 60 years"
   ]
  },
  {
   "cell_type": "code",
   "execution_count": 45,
   "id": "719e58a0",
   "metadata": {},
   "outputs": [
    {
     "data": {
      "text/html": [
       "<div>\n",
       "<style scoped>\n",
       "    .dataframe tbody tr th:only-of-type {\n",
       "        vertical-align: middle;\n",
       "    }\n",
       "\n",
       "    .dataframe tbody tr th {\n",
       "        vertical-align: top;\n",
       "    }\n",
       "\n",
       "    .dataframe thead th {\n",
       "        text-align: right;\n",
       "    }\n",
       "</style>\n",
       "<table border=\"1\" class=\"dataframe\">\n",
       "  <thead>\n",
       "    <tr style=\"text-align: right;\">\n",
       "      <th></th>\n",
       "      <th>CountryName</th>\n",
       "      <th>CountryCode</th>\n",
       "      <th>IndicatorName</th>\n",
       "      <th>Year</th>\n",
       "      <th>Value</th>\n",
       "    </tr>\n",
       "  </thead>\n",
       "  <tbody>\n",
       "    <tr>\n",
       "      <th>53</th>\n",
       "      <td>Australia</td>\n",
       "      <td>AUS</td>\n",
       "      <td>Life expectancy at birth, total (years)</td>\n",
       "      <td>2013</td>\n",
       "      <td>82.197561</td>\n",
       "    </tr>\n",
       "    <tr>\n",
       "      <th>107</th>\n",
       "      <td>Brunei Darussalam</td>\n",
       "      <td>BRN</td>\n",
       "      <td>Life expectancy at birth, total (years)</td>\n",
       "      <td>2013</td>\n",
       "      <td>78.546659</td>\n",
       "    </tr>\n",
       "    <tr>\n",
       "      <th>161</th>\n",
       "      <td>Cambodia</td>\n",
       "      <td>KHM</td>\n",
       "      <td>Life expectancy at birth, total (years)</td>\n",
       "      <td>2013</td>\n",
       "      <td>67.772049</td>\n",
       "    </tr>\n",
       "    <tr>\n",
       "      <th>215</th>\n",
       "      <td>China</td>\n",
       "      <td>CHN</td>\n",
       "      <td>Life expectancy at birth, total (years)</td>\n",
       "      <td>2013</td>\n",
       "      <td>75.353024</td>\n",
       "    </tr>\n",
       "    <tr>\n",
       "      <th>269</th>\n",
       "      <td>Korea, Dem. Rep.</td>\n",
       "      <td>PRK</td>\n",
       "      <td>Life expectancy at birth, total (years)</td>\n",
       "      <td>2013</td>\n",
       "      <td>69.791951</td>\n",
       "    </tr>\n",
       "  </tbody>\n",
       "</table>\n",
       "</div>"
      ],
      "text/plain": [
       "           CountryName CountryCode                            IndicatorName  \\\n",
       "53           Australia         AUS  Life expectancy at birth, total (years)   \n",
       "107  Brunei Darussalam         BRN  Life expectancy at birth, total (years)   \n",
       "161           Cambodia         KHM  Life expectancy at birth, total (years)   \n",
       "215              China         CHN  Life expectancy at birth, total (years)   \n",
       "269   Korea, Dem. Rep.         PRK  Life expectancy at birth, total (years)   \n",
       "\n",
       "     Year      Value  \n",
       "53   2013  82.197561  \n",
       "107  2013  78.546659  \n",
       "161  2013  67.772049  \n",
       "215  2013  75.353024  \n",
       "269  2013  69.791951  "
      ]
     },
     "execution_count": 45,
     "metadata": {},
     "output_type": "execute_result"
    }
   ],
   "source": [
    "# Compare it with the Region Countries at 2013\n",
    "health_compare = health[health[\"Year\"] == 2013]\n",
    "\n",
    "health_compare.head()"
   ]
  },
  {
   "cell_type": "code",
   "execution_count": 63,
   "id": "783acf0b",
   "metadata": {},
   "outputs": [],
   "source": [
    "health_compare = health_compare.sort_values(by = \"Value\")"
   ]
  },
  {
   "cell_type": "code",
   "execution_count": 68,
   "id": "73753190",
   "metadata": {},
   "outputs": [
    {
     "data": {
      "image/png": "[encoded data removed]",
      "text/plain": [
       "<Figure size 720x1080 with 1 Axes>"
      ]
     },
     "metadata": {
      "needs_background": "light"
     },
     "output_type": "display_data"
    }
   ],
   "source": [
    "h_bar_plot(health_compare, \"Life Expectancy in the East Aisa and the pacific region\", \"Life Expectancy\", \"Country Name\")\n",
    "plt.rcParams[\"figure.figsize\"] = (10,15)\n"
   ]
  },
  {
   "cell_type": "markdown",
   "id": "80adb8d0",
   "metadata": {},
   "source": [
    "Singapore has the 6th place between region countries"
   ]
  },
  {
   "cell_type": "markdown",
   "id": "3a8d3405",
   "metadata": {},
   "source": [
    "### 3- How Unemployment Developed over the years in singapore ?"
   ]
  },
  {
   "cell_type": "code",
   "execution_count": 73,
   "id": "e9955fce",
   "metadata": {},
   "outputs": [
    {
     "data": {
      "image/png": "[encoded data removed]",
      "text/plain": [
       "<Figure size 540x360 with 1 Axes>"
      ]
     },
     "metadata": {
      "needs_background": "light"
     },
     "output_type": "display_data"
    }
   ],
   "source": [
    "# Use line plot to measure the GDP\n",
    "plt.plot(singapore_unemployment[\"Year\"].values, singapore_unemployment[\"Value\"].values)\n",
    "\n",
    "plt.title('Unemployment From 1960 to 2014')\n",
    "\n",
    "plt.ylabel('Unemployment rate')\n",
    "plt.xlabel('Years')\n",
    "\n",
    "plt.show()\n",
    "\n",
    "plt.rcParams[\"figure.figsize\"] = (7.5,5)\n"
   ]
  },
  {
   "cell_type": "markdown",
   "id": "c1a1d544",
   "metadata": {},
   "source": [
    "Unemployment Rate has a huge decline in the 80s and 90s, it seems that was a problem faced singapore in 2000s but it seems that the government controlled the situations and now the has very low unemployment rate"
   ]
  },
  {
   "cell_type": "code",
   "execution_count": 55,
   "id": "d70f52f3",
   "metadata": {},
   "outputs": [],
   "source": [
    "unemployment_compare = unemployment[unemployment[\"Year\"] == 2014].sort_values(by = \"Value\")"
   ]
  },
  {
   "cell_type": "code",
   "execution_count": 56,
   "id": "36547362",
   "metadata": {},
   "outputs": [
    {
     "data": {
      "image/png": "[encoded data removed]",
      "text/plain": [
       "<Figure size 540x360 with 1 Axes>"
      ]
     },
     "metadata": {
      "needs_background": "light"
     },
     "output_type": "display_data"
    }
   ],
   "source": [
    "# compare unemployment rate between region countries\n",
    "h_bar_plot(unemployment_compare, \"Unemployment rate in the East Aisa and the pacific region\", \"Unemployment rate\", \"Country Name\")\n",
    "plt.rcParams[\"figure.figsize\"] = (7.5,5)\n"
   ]
  },
  {
   "cell_type": "markdown",
   "id": "5b67caeb",
   "metadata": {},
   "source": [
    "Singapore has the 3th place between region countries, It has one of the most low unemployment rates in the region"
   ]
  },
  {
   "cell_type": "markdown",
   "id": "59530a28",
   "metadata": {},
   "source": [
    "<a id='conclusions'></a>\n",
    "## Conclusions\n",
    "\n",
    "> ### Result\n",
    "> I started my analysis to explore the development process of singapore and compare it between its region countries and as i see it is one of the most developed countries in the last few decades and has a good position between its region countries\n",
    "\n",
    "> Economy progress i measured it using GDP the deveopment was not steady as i expected but comparing the last year progress to the mean value it is progressing\n",
    "\n",
    "> In the health sector steady increasing trend line \n",
    "\n",
    "> in the unemployment huge development as it now has one of the region lowest unemployment rate\n",
    "\n",
    "> ### Limitations\n",
    "\n",
    "> <li>No data about historical events in the countries which may have huge impact on its progress\n",
    "> <li>The difference between recorded data years range"
   ]
  }
 ],
 "metadata": {
  "kernelspec": {
   "display_name": "Python 3 (ipykernel)",
   "language": "python",
   "name": "python3"
  },
  "language_info": {
   "codemirror_mode": {
    "name": "ipython",
    "version": 3
   },
   "file_extension": ".py",
   "mimetype": "text/x-python",
   "name": "python",
   "nbconvert_exporter": "python",
   "pygments_lexer": "ipython3",
   "version": "3.9.7"
  }
 },
 "nbformat": 4,
 "nbformat_minor": 5
}
